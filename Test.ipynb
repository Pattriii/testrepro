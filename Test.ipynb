{
 "cells": [
  {
   "cell_type": "markdown",
   "metadata": {},
   "source": [
    "<center>\n",
    "    <img src=\"https://cf-courses-data.s3.us.cloud-object-storage.appdomain.cloud/IBMDeveloperSkillsNetwork-DS0105EN-SkillsNetwork/labs/Module2/images/SN_web_lightmode.png\" width=\"300\" alt=\"cognitiveclass.ai logo\">\n",
    "</center>\n"
   ]
  },
  {
   "cell_type": "markdown",
   "metadata": {},
   "source": [
    "#### Add your code below following the instructions given in the course\n"
   ]
  },
  {
   "cell_type": "code",
   "execution_count": null,
   "metadata": {},
   "outputs": [],
   "source": [
    "# Jupyterlite Notebook - Data Science Tools and Ecosystem\n",
    "## Introduction\n",
    "\n",
    "Welcome to my Jupyterlite Notebook for the Data Science Project! In this notebook,\n",
    "I will explore various aspects of data science, including languages, libraries, tools, and examples of arithmetic expressions. Let's dive in!\n",
    "\n",
    "\n",
    "## Data Science Languages\n",
    "\n",
    "1. Python\n",
    "2. R\n",
    "3. SQL\n",
    "4. Julia\n",
    "5. Scala\n",
    "## Data Science Libraries\n",
    "\n",
    "- Pandas\n",
    "- NumPy\n",
    "- Matplotlib# Convert minutes to hours\n",
    "minutes = 150\n",
    "hours = minutes / 60\n",
    "print(\"150 minutes is equal to\", hours, \"hours\")\n",
    "\n",
    "- Seaborn\n",
    "- SciPy\n",
    "- Scikit-learn\n",
    "## Data Science Tools\n",
    "\n",
    "| Tool          | Description                                   |\n",
    "|---------------|-----------------------------------------------|\n",
    "| Jupyter       | Interactive computing                        |\n",
    "| TensorFlow    | Machine learning library                      |\n",
    "| Keras         | Deep learning library                         |\n",
    "| Tableau       | Data visualization tool                       |\n",
    "| Spark         | Distributed computing                         |\n",
    "| Hadoop        | Distributed storage and processing framework |\n",
    "## Arithmetic Expressions Examples\n",
    "\n",
    "- Addition: 2 + 2 = 4\n",
    "- Subtraction: 5 - 3 = 2\n",
    "- Multiplication: 3 * 4 = 12\n",
    "- Division: 10 / 2 = 5\n",
    "# Multiplication\n",
    "result_mult = 3 * 5\n",
    "print(\"Multiplication result:\", result_mult)\n",
    "\n",
    "# Summation\n",
    "result_sum = 10 + 20\n",
    "print(\"Summation result:\", result_sum)\n",
    "\n",
    "# Convert minutes to hours\n",
    "minutes = 150\n",
    "hours = minutes / 60\n",
    "print(\"150 minutes is equal to\", hours, \"hours\")\n",
    "\n",
    "# List of Goals\n",
    "goals = [\"Learn new data science techniques\", \"Apply machine learning algorithms\", \"Visualize data effectively\"]\n",
    "for goal in goals:\n",
    "    print(goal)\n",
    "\n",
    "    ## Author\n",
    "\n",
    "Created by Alvaro Rojas \n",
    "\n"
   ]
  }
 ],
 "metadata": {
  "kernelspec": {
   "display_name": "Python",
   "language": "python",
   "name": "conda-env-python-py"
  },
  "language_info": {
   "codemirror_mode": {
    "name": "ipython",
    "version": 3
   },
   "file_extension": ".py",
   "mimetype": "text/x-python",
   "name": "python",
   "nbconvert_exporter": "python",
   "pygments_lexer": "ipython3",
   "version": "3.7.12"
  }
 },
 "nbformat": 4,
 "nbformat_minor": 4
}
